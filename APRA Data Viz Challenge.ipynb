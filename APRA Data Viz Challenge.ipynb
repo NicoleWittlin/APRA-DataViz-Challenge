{
 "cells": [
  {
   "cell_type": "markdown",
   "metadata": {},
   "source": [
    "## READ in Files from GitHub"
   ]
  },
  {
   "cell_type": "code",
   "execution_count": 31,
   "metadata": {},
   "outputs": [],
   "source": [
    "import pandas as pd\n",
    "import numpy as np\n",
    "import matplotlib.pyplot as plt\n",
    "import seaborn as sns\n",
    "import requests\n",
    "import io"
   ]
  },
  {
   "cell_type": "code",
   "execution_count": 32,
   "metadata": {},
   "outputs": [],
   "source": [
    "# Gift Data File Path to GitHub\n",
    "\n",
    "gifturl = \"https://raw.githubusercontent.com/NicoleWittlin/APRA-DataViz-Challenge/master/giving_data_table.csv\"\n",
    "download = requests.get(gifturl).content\n",
    "giftdata = pd.read_csv(io.StringIO(download.decode(\"utf-8\")))"
   ]
  },
  {
   "cell_type": "code",
   "execution_count": 3,
   "metadata": {},
   "outputs": [],
   "source": [
    "# Bio Data File Path to GitHub\n",
    "\n",
    "biourl = \"https://raw.githubusercontent.com/NicoleWittlin/APRA-DataViz-Challenge/master/bio_data_table.csv\"\n",
    "download = requests.get(biourl).content\n",
    "biodata = pd.read_csv(io.StringIO(download.decode(\"utf-8\")))"
   ]
  },
  {
   "cell_type": "code",
   "execution_count": 4,
   "metadata": {},
   "outputs": [],
   "source": [
    "# Engagement Data File Path to GitHub\n",
    "\n",
    "engageurl = \"https://raw.githubusercontent.com/NicoleWittlin/APRA-DataViz-Challenge/master/engagement_data_table.csv\"\n",
    "download = requests.get(engageurl).content\n",
    "engagedata = pd.read_csv(io.StringIO(download.decode(\"utf-8\")))"
   ]
  },
  {
   "cell_type": "markdown",
   "metadata": {},
   "source": [
    "## Spot Check Data"
   ]
  },
  {
   "cell_type": "code",
   "execution_count": 5,
   "metadata": {},
   "outputs": [
    {
     "data": {
      "text/html": [
       "<div>\n",
       "<style scoped>\n",
       "    .dataframe tbody tr th:only-of-type {\n",
       "        vertical-align: middle;\n",
       "    }\n",
       "\n",
       "    .dataframe tbody tr th {\n",
       "        vertical-align: top;\n",
       "    }\n",
       "\n",
       "    .dataframe thead th {\n",
       "        text-align: right;\n",
       "    }\n",
       "</style>\n",
       "<table border=\"1\" class=\"dataframe\">\n",
       "  <thead>\n",
       "    <tr style=\"text-align: right;\">\n",
       "      <th></th>\n",
       "      <th>household ID</th>\n",
       "      <th>ID</th>\n",
       "      <th>gift id</th>\n",
       "      <th>credit Type</th>\n",
       "      <th>gift amt</th>\n",
       "      <th>gift date</th>\n",
       "    </tr>\n",
       "  </thead>\n",
       "  <tbody>\n",
       "    <tr>\n",
       "      <th>0</th>\n",
       "      <td>9662153</td>\n",
       "      <td>8494401</td>\n",
       "      <td>2916764</td>\n",
       "      <td>Soft-Credit</td>\n",
       "      <td>385</td>\n",
       "      <td>2016-10-21</td>\n",
       "    </tr>\n",
       "    <tr>\n",
       "      <th>1</th>\n",
       "      <td>2484641</td>\n",
       "      <td>5186919</td>\n",
       "      <td>2916801</td>\n",
       "      <td>Hard-Credit</td>\n",
       "      <td>401</td>\n",
       "      <td>2016-10-21</td>\n",
       "    </tr>\n",
       "    <tr>\n",
       "      <th>2</th>\n",
       "      <td>2484641</td>\n",
       "      <td>5929757</td>\n",
       "      <td>2916801</td>\n",
       "      <td>Soft-Credit</td>\n",
       "      <td>401</td>\n",
       "      <td>2016-10-21</td>\n",
       "    </tr>\n",
       "    <tr>\n",
       "      <th>3</th>\n",
       "      <td>6982155</td>\n",
       "      <td>7005004</td>\n",
       "      <td>2916813</td>\n",
       "      <td>Hard-Credit</td>\n",
       "      <td>420</td>\n",
       "      <td>2016-10-21</td>\n",
       "    </tr>\n",
       "    <tr>\n",
       "      <th>4</th>\n",
       "      <td>6982155</td>\n",
       "      <td>3789171</td>\n",
       "      <td>2916813</td>\n",
       "      <td>Soft-Credit</td>\n",
       "      <td>420</td>\n",
       "      <td>2016-10-21</td>\n",
       "    </tr>\n",
       "  </tbody>\n",
       "</table>\n",
       "</div>"
      ],
      "text/plain": [
       "   household ID       ID  gift id  credit Type  gift amt   gift date\n",
       "0       9662153  8494401  2916764  Soft-Credit       385  2016-10-21\n",
       "1       2484641  5186919  2916801  Hard-Credit       401  2016-10-21\n",
       "2       2484641  5929757  2916801  Soft-Credit       401  2016-10-21\n",
       "3       6982155  7005004  2916813  Hard-Credit       420  2016-10-21\n",
       "4       6982155  3789171  2916813  Soft-Credit       420  2016-10-21"
      ]
     },
     "execution_count": 5,
     "metadata": {},
     "output_type": "execute_result"
    }
   ],
   "source": [
    "giftdata.head()"
   ]
  },
  {
   "cell_type": "code",
   "execution_count": 30,
   "metadata": {},
   "outputs": [
    {
     "data": {
      "text/plain": [
       "Index(['household ID', 'ID', 'gift id', 'credit Type', 'gift amt',\n",
       "       'gift date'],\n",
       "      dtype='object')"
      ]
     },
     "execution_count": 30,
     "metadata": {},
     "output_type": "execute_result"
    }
   ],
   "source": [
    "giftdata.columns"
   ]
  },
  {
   "cell_type": "code",
   "execution_count": 6,
   "metadata": {},
   "outputs": [
    {
     "data": {
      "text/html": [
       "<div>\n",
       "<style scoped>\n",
       "    .dataframe tbody tr th:only-of-type {\n",
       "        vertical-align: middle;\n",
       "    }\n",
       "\n",
       "    .dataframe tbody tr th {\n",
       "        vertical-align: top;\n",
       "    }\n",
       "\n",
       "    .dataframe thead th {\n",
       "        text-align: right;\n",
       "    }\n",
       "</style>\n",
       "<table border=\"1\" class=\"dataframe\">\n",
       "  <thead>\n",
       "    <tr style=\"text-align: right;\">\n",
       "      <th></th>\n",
       "      <th>id</th>\n",
       "      <th>name</th>\n",
       "      <th>household_id</th>\n",
       "      <th>country</th>\n",
       "      <th>city</th>\n",
       "      <th>birthday</th>\n",
       "      <th>deceased</th>\n",
       "      <th>zip</th>\n",
       "      <th>state</th>\n",
       "      <th>lat</th>\n",
       "      <th>lon</th>\n",
       "      <th>capacity</th>\n",
       "      <th>capacity_source</th>\n",
       "      <th>race</th>\n",
       "    </tr>\n",
       "  </thead>\n",
       "  <tbody>\n",
       "    <tr>\n",
       "      <th>0</th>\n",
       "      <td>1581317</td>\n",
       "      <td>Patterson, Aeneas</td>\n",
       "      <td>4310723</td>\n",
       "      <td>United States</td>\n",
       "      <td>Agawam</td>\n",
       "      <td>1900-01-01</td>\n",
       "      <td>N</td>\n",
       "      <td>1001.0</td>\n",
       "      <td>MA</td>\n",
       "      <td>42.06</td>\n",
       "      <td>-72.61</td>\n",
       "      <td>&gt;$1k</td>\n",
       "      <td>screening</td>\n",
       "      <td>Non-Hispanic white</td>\n",
       "    </tr>\n",
       "    <tr>\n",
       "      <th>1</th>\n",
       "      <td>9952781</td>\n",
       "      <td>Page, Casie</td>\n",
       "      <td>9248960</td>\n",
       "      <td>United States</td>\n",
       "      <td>Agawam</td>\n",
       "      <td>1958-10-20</td>\n",
       "      <td>N</td>\n",
       "      <td>1001.0</td>\n",
       "      <td>MA</td>\n",
       "      <td>42.06</td>\n",
       "      <td>-72.61</td>\n",
       "      <td>$75k - $100k</td>\n",
       "      <td>screening</td>\n",
       "      <td>Non-Hispanic white</td>\n",
       "    </tr>\n",
       "    <tr>\n",
       "      <th>2</th>\n",
       "      <td>6170220</td>\n",
       "      <td>Vasquez, James</td>\n",
       "      <td>9248960</td>\n",
       "      <td>United States</td>\n",
       "      <td>Agawam</td>\n",
       "      <td>1958-03-10</td>\n",
       "      <td>N</td>\n",
       "      <td>1001.0</td>\n",
       "      <td>MA</td>\n",
       "      <td>42.06</td>\n",
       "      <td>-72.61</td>\n",
       "      <td>$75k - $100k</td>\n",
       "      <td>screening</td>\n",
       "      <td>Non-Hispanic white</td>\n",
       "    </tr>\n",
       "    <tr>\n",
       "      <th>3</th>\n",
       "      <td>2012013</td>\n",
       "      <td>Garcia, Dezmenn</td>\n",
       "      <td>4731003</td>\n",
       "      <td>United States</td>\n",
       "      <td>Amherst</td>\n",
       "      <td>1940-07-20</td>\n",
       "      <td>Y</td>\n",
       "      <td>1002.0</td>\n",
       "      <td>MA</td>\n",
       "      <td>42.37</td>\n",
       "      <td>-72.52</td>\n",
       "      <td>$75k - $100k</td>\n",
       "      <td>NaN</td>\n",
       "      <td>Non-Hispanic white</td>\n",
       "    </tr>\n",
       "    <tr>\n",
       "      <th>4</th>\n",
       "      <td>1021063</td>\n",
       "      <td>Riefstahl, Christopher</td>\n",
       "      <td>6094904</td>\n",
       "      <td>United States</td>\n",
       "      <td>Amherst</td>\n",
       "      <td>1982-07-24</td>\n",
       "      <td>N</td>\n",
       "      <td>1002.0</td>\n",
       "      <td>MA</td>\n",
       "      <td>42.37</td>\n",
       "      <td>-72.52</td>\n",
       "      <td>$75k - $100k</td>\n",
       "      <td>institutional</td>\n",
       "      <td>Non-Hispanic white</td>\n",
       "    </tr>\n",
       "  </tbody>\n",
       "</table>\n",
       "</div>"
      ],
      "text/plain": [
       "        id                    name  household_id        country     city  \\\n",
       "0  1581317       Patterson, Aeneas       4310723  United States   Agawam   \n",
       "1  9952781             Page, Casie       9248960  United States   Agawam   \n",
       "2  6170220          Vasquez, James       9248960  United States   Agawam   \n",
       "3  2012013         Garcia, Dezmenn       4731003  United States  Amherst   \n",
       "4  1021063  Riefstahl, Christopher       6094904  United States  Amherst   \n",
       "\n",
       "     birthday deceased     zip state    lat    lon      capacity  \\\n",
       "0  1900-01-01        N  1001.0    MA  42.06 -72.61          >$1k   \n",
       "1  1958-10-20        N  1001.0    MA  42.06 -72.61  $75k - $100k   \n",
       "2  1958-03-10        N  1001.0    MA  42.06 -72.61  $75k - $100k   \n",
       "3  1940-07-20        Y  1002.0    MA  42.37 -72.52  $75k - $100k   \n",
       "4  1982-07-24        N  1002.0    MA  42.37 -72.52  $75k - $100k   \n",
       "\n",
       "  capacity_source                race  \n",
       "0       screening  Non-Hispanic white  \n",
       "1       screening  Non-Hispanic white  \n",
       "2       screening  Non-Hispanic white  \n",
       "3             NaN  Non-Hispanic white  \n",
       "4   institutional  Non-Hispanic white  "
      ]
     },
     "execution_count": 6,
     "metadata": {},
     "output_type": "execute_result"
    }
   ],
   "source": [
    "biodata.head()"
   ]
  },
  {
   "cell_type": "code",
   "execution_count": 7,
   "metadata": {},
   "outputs": [
    {
     "data": {
      "text/html": [
       "<div>\n",
       "<style scoped>\n",
       "    .dataframe tbody tr th:only-of-type {\n",
       "        vertical-align: middle;\n",
       "    }\n",
       "\n",
       "    .dataframe tbody tr th {\n",
       "        vertical-align: top;\n",
       "    }\n",
       "\n",
       "    .dataframe thead th {\n",
       "        text-align: right;\n",
       "    }\n",
       "</style>\n",
       "<table border=\"1\" class=\"dataframe\">\n",
       "  <thead>\n",
       "    <tr style=\"text-align: right;\">\n",
       "      <th></th>\n",
       "      <th>id</th>\n",
       "      <th>last_contact</th>\n",
       "      <th>numer_of_contacts</th>\n",
       "      <th>gift_officer</th>\n",
       "      <th>event</th>\n",
       "      <th>volunteer</th>\n",
       "      <th>time_on_site</th>\n",
       "      <th>interests</th>\n",
       "    </tr>\n",
       "  </thead>\n",
       "  <tbody>\n",
       "    <tr>\n",
       "      <th>0</th>\n",
       "      <td>1581317</td>\n",
       "      <td>NaN</td>\n",
       "      <td>0.0</td>\n",
       "      <td>NaN</td>\n",
       "      <td>Y</td>\n",
       "      <td>NaN</td>\n",
       "      <td>432.0</td>\n",
       "      <td>skiing,golf,reading,hunting/fishing</td>\n",
       "    </tr>\n",
       "    <tr>\n",
       "      <th>1</th>\n",
       "      <td>2012013</td>\n",
       "      <td>NaN</td>\n",
       "      <td>8.0</td>\n",
       "      <td>NaN</td>\n",
       "      <td>Y</td>\n",
       "      <td>NaN</td>\n",
       "      <td>NaN</td>\n",
       "      <td>NaN</td>\n",
       "    </tr>\n",
       "    <tr>\n",
       "      <th>2</th>\n",
       "      <td>1021063</td>\n",
       "      <td>NaN</td>\n",
       "      <td>0.0</td>\n",
       "      <td>NaN</td>\n",
       "      <td>N</td>\n",
       "      <td>NaN</td>\n",
       "      <td>NaN</td>\n",
       "      <td>hunting/fishing</td>\n",
       "    </tr>\n",
       "    <tr>\n",
       "      <th>3</th>\n",
       "      <td>2725629</td>\n",
       "      <td>NaN</td>\n",
       "      <td>NaN</td>\n",
       "      <td>NaN</td>\n",
       "      <td>N</td>\n",
       "      <td>NaN</td>\n",
       "      <td>119.0</td>\n",
       "      <td>NaN</td>\n",
       "    </tr>\n",
       "    <tr>\n",
       "      <th>4</th>\n",
       "      <td>1880411</td>\n",
       "      <td>NaN</td>\n",
       "      <td>0.0</td>\n",
       "      <td>NaN</td>\n",
       "      <td>N</td>\n",
       "      <td>NaN</td>\n",
       "      <td>NaN</td>\n",
       "      <td>NaN</td>\n",
       "    </tr>\n",
       "  </tbody>\n",
       "</table>\n",
       "</div>"
      ],
      "text/plain": [
       "        id last_contact  numer_of_contacts gift_officer event  volunteer  \\\n",
       "0  1581317          NaN                0.0          NaN     Y        NaN   \n",
       "1  2012013          NaN                8.0          NaN     Y        NaN   \n",
       "2  1021063          NaN                0.0          NaN     N        NaN   \n",
       "3  2725629          NaN                NaN          NaN     N        NaN   \n",
       "4  1880411          NaN                0.0          NaN     N        NaN   \n",
       "\n",
       "   time_on_site                            interests  \n",
       "0         432.0  skiing,golf,reading,hunting/fishing  \n",
       "1           NaN                                  NaN  \n",
       "2           NaN                      hunting/fishing  \n",
       "3         119.0                                  NaN  \n",
       "4           NaN                                  NaN  "
      ]
     },
     "execution_count": 7,
     "metadata": {},
     "output_type": "execute_result"
    }
   ],
   "source": [
    "engagedata.head()"
   ]
  },
  {
   "cell_type": "markdown",
   "metadata": {},
   "source": [
    "## MERGE Data Files: Bio + Engagement"
   ]
  },
  {
   "cell_type": "code",
   "execution_count": 8,
   "metadata": {},
   "outputs": [],
   "source": [
    "bioengagemerge = pd.merge(biodata, engagedata, on=\"id\", how=\"left\")"
   ]
  },
  {
   "cell_type": "code",
   "execution_count": 9,
   "metadata": {},
   "outputs": [
    {
     "data": {
      "text/html": [
       "<div>\n",
       "<style scoped>\n",
       "    .dataframe tbody tr th:only-of-type {\n",
       "        vertical-align: middle;\n",
       "    }\n",
       "\n",
       "    .dataframe tbody tr th {\n",
       "        vertical-align: top;\n",
       "    }\n",
       "\n",
       "    .dataframe thead th {\n",
       "        text-align: right;\n",
       "    }\n",
       "</style>\n",
       "<table border=\"1\" class=\"dataframe\">\n",
       "  <thead>\n",
       "    <tr style=\"text-align: right;\">\n",
       "      <th></th>\n",
       "      <th>id</th>\n",
       "      <th>name</th>\n",
       "      <th>household_id</th>\n",
       "      <th>country</th>\n",
       "      <th>city</th>\n",
       "      <th>birthday</th>\n",
       "      <th>deceased</th>\n",
       "      <th>zip</th>\n",
       "      <th>state</th>\n",
       "      <th>lat</th>\n",
       "      <th>...</th>\n",
       "      <th>capacity</th>\n",
       "      <th>capacity_source</th>\n",
       "      <th>race</th>\n",
       "      <th>last_contact</th>\n",
       "      <th>numer_of_contacts</th>\n",
       "      <th>gift_officer</th>\n",
       "      <th>event</th>\n",
       "      <th>volunteer</th>\n",
       "      <th>time_on_site</th>\n",
       "      <th>interests</th>\n",
       "    </tr>\n",
       "  </thead>\n",
       "  <tbody>\n",
       "    <tr>\n",
       "      <th>0</th>\n",
       "      <td>1581317</td>\n",
       "      <td>Patterson, Aeneas</td>\n",
       "      <td>4310723</td>\n",
       "      <td>United States</td>\n",
       "      <td>Agawam</td>\n",
       "      <td>1900-01-01</td>\n",
       "      <td>N</td>\n",
       "      <td>1001.0</td>\n",
       "      <td>MA</td>\n",
       "      <td>42.06</td>\n",
       "      <td>...</td>\n",
       "      <td>&gt;$1k</td>\n",
       "      <td>screening</td>\n",
       "      <td>Non-Hispanic white</td>\n",
       "      <td>NaN</td>\n",
       "      <td>0.0</td>\n",
       "      <td>NaN</td>\n",
       "      <td>Y</td>\n",
       "      <td>NaN</td>\n",
       "      <td>432.0</td>\n",
       "      <td>skiing,golf,reading,hunting/fishing</td>\n",
       "    </tr>\n",
       "    <tr>\n",
       "      <th>1</th>\n",
       "      <td>9952781</td>\n",
       "      <td>Page, Casie</td>\n",
       "      <td>9248960</td>\n",
       "      <td>United States</td>\n",
       "      <td>Agawam</td>\n",
       "      <td>1958-10-20</td>\n",
       "      <td>N</td>\n",
       "      <td>1001.0</td>\n",
       "      <td>MA</td>\n",
       "      <td>42.06</td>\n",
       "      <td>...</td>\n",
       "      <td>$75k - $100k</td>\n",
       "      <td>screening</td>\n",
       "      <td>Non-Hispanic white</td>\n",
       "      <td>2018-06-16</td>\n",
       "      <td>23.0</td>\n",
       "      <td>NaN</td>\n",
       "      <td>N</td>\n",
       "      <td>NaN</td>\n",
       "      <td>NaN</td>\n",
       "      <td>cars,wine,food/dining/cooking</td>\n",
       "    </tr>\n",
       "    <tr>\n",
       "      <th>2</th>\n",
       "      <td>6170220</td>\n",
       "      <td>Vasquez, James</td>\n",
       "      <td>9248960</td>\n",
       "      <td>United States</td>\n",
       "      <td>Agawam</td>\n",
       "      <td>1958-03-10</td>\n",
       "      <td>N</td>\n",
       "      <td>1001.0</td>\n",
       "      <td>MA</td>\n",
       "      <td>42.06</td>\n",
       "      <td>...</td>\n",
       "      <td>$75k - $100k</td>\n",
       "      <td>screening</td>\n",
       "      <td>Non-Hispanic white</td>\n",
       "      <td>2020-02-03</td>\n",
       "      <td>15.0</td>\n",
       "      <td>NaN</td>\n",
       "      <td>N</td>\n",
       "      <td>NaN</td>\n",
       "      <td>NaN</td>\n",
       "      <td>golf,reading</td>\n",
       "    </tr>\n",
       "    <tr>\n",
       "      <th>3</th>\n",
       "      <td>2012013</td>\n",
       "      <td>Garcia, Dezmenn</td>\n",
       "      <td>4731003</td>\n",
       "      <td>United States</td>\n",
       "      <td>Amherst</td>\n",
       "      <td>1940-07-20</td>\n",
       "      <td>Y</td>\n",
       "      <td>1002.0</td>\n",
       "      <td>MA</td>\n",
       "      <td>42.37</td>\n",
       "      <td>...</td>\n",
       "      <td>$75k - $100k</td>\n",
       "      <td>NaN</td>\n",
       "      <td>Non-Hispanic white</td>\n",
       "      <td>NaN</td>\n",
       "      <td>8.0</td>\n",
       "      <td>NaN</td>\n",
       "      <td>Y</td>\n",
       "      <td>NaN</td>\n",
       "      <td>NaN</td>\n",
       "      <td>NaN</td>\n",
       "    </tr>\n",
       "    <tr>\n",
       "      <th>4</th>\n",
       "      <td>1021063</td>\n",
       "      <td>Riefstahl, Christopher</td>\n",
       "      <td>6094904</td>\n",
       "      <td>United States</td>\n",
       "      <td>Amherst</td>\n",
       "      <td>1982-07-24</td>\n",
       "      <td>N</td>\n",
       "      <td>1002.0</td>\n",
       "      <td>MA</td>\n",
       "      <td>42.37</td>\n",
       "      <td>...</td>\n",
       "      <td>$75k - $100k</td>\n",
       "      <td>institutional</td>\n",
       "      <td>Non-Hispanic white</td>\n",
       "      <td>NaN</td>\n",
       "      <td>0.0</td>\n",
       "      <td>NaN</td>\n",
       "      <td>N</td>\n",
       "      <td>NaN</td>\n",
       "      <td>NaN</td>\n",
       "      <td>hunting/fishing</td>\n",
       "    </tr>\n",
       "  </tbody>\n",
       "</table>\n",
       "<p>5 rows × 21 columns</p>\n",
       "</div>"
      ],
      "text/plain": [
       "        id                    name  household_id        country     city  \\\n",
       "0  1581317       Patterson, Aeneas       4310723  United States   Agawam   \n",
       "1  9952781             Page, Casie       9248960  United States   Agawam   \n",
       "2  6170220          Vasquez, James       9248960  United States   Agawam   \n",
       "3  2012013         Garcia, Dezmenn       4731003  United States  Amherst   \n",
       "4  1021063  Riefstahl, Christopher       6094904  United States  Amherst   \n",
       "\n",
       "     birthday deceased     zip state    lat  ...      capacity  \\\n",
       "0  1900-01-01        N  1001.0    MA  42.06  ...          >$1k   \n",
       "1  1958-10-20        N  1001.0    MA  42.06  ...  $75k - $100k   \n",
       "2  1958-03-10        N  1001.0    MA  42.06  ...  $75k - $100k   \n",
       "3  1940-07-20        Y  1002.0    MA  42.37  ...  $75k - $100k   \n",
       "4  1982-07-24        N  1002.0    MA  42.37  ...  $75k - $100k   \n",
       "\n",
       "  capacity_source                race last_contact numer_of_contacts  \\\n",
       "0       screening  Non-Hispanic white          NaN               0.0   \n",
       "1       screening  Non-Hispanic white   2018-06-16              23.0   \n",
       "2       screening  Non-Hispanic white   2020-02-03              15.0   \n",
       "3             NaN  Non-Hispanic white          NaN               8.0   \n",
       "4   institutional  Non-Hispanic white          NaN               0.0   \n",
       "\n",
       "   gift_officer event volunteer  time_on_site  \\\n",
       "0           NaN     Y       NaN         432.0   \n",
       "1           NaN     N       NaN           NaN   \n",
       "2           NaN     N       NaN           NaN   \n",
       "3           NaN     Y       NaN           NaN   \n",
       "4           NaN     N       NaN           NaN   \n",
       "\n",
       "                             interests  \n",
       "0  skiing,golf,reading,hunting/fishing  \n",
       "1        cars,wine,food/dining/cooking  \n",
       "2                         golf,reading  \n",
       "3                                  NaN  \n",
       "4                      hunting/fishing  \n",
       "\n",
       "[5 rows x 21 columns]"
      ]
     },
     "execution_count": 9,
     "metadata": {},
     "output_type": "execute_result"
    }
   ],
   "source": [
    "bioengagemerge.head()"
   ]
  },
  {
   "cell_type": "code",
   "execution_count": 10,
   "metadata": {},
   "outputs": [
    {
     "data": {
      "text/html": [
       "<div>\n",
       "<style scoped>\n",
       "    .dataframe tbody tr th:only-of-type {\n",
       "        vertical-align: middle;\n",
       "    }\n",
       "\n",
       "    .dataframe tbody tr th {\n",
       "        vertical-align: top;\n",
       "    }\n",
       "\n",
       "    .dataframe thead th {\n",
       "        text-align: right;\n",
       "    }\n",
       "</style>\n",
       "<table border=\"1\" class=\"dataframe\">\n",
       "  <thead>\n",
       "    <tr style=\"text-align: right;\">\n",
       "      <th></th>\n",
       "      <th>id</th>\n",
       "      <th>name</th>\n",
       "      <th>household_id</th>\n",
       "      <th>country</th>\n",
       "      <th>city</th>\n",
       "      <th>birthday</th>\n",
       "      <th>deceased</th>\n",
       "      <th>zip</th>\n",
       "      <th>state</th>\n",
       "      <th>lat</th>\n",
       "      <th>...</th>\n",
       "      <th>capacity</th>\n",
       "      <th>capacity_source</th>\n",
       "      <th>race</th>\n",
       "      <th>last_contact</th>\n",
       "      <th>numer_of_contacts</th>\n",
       "      <th>gift_officer</th>\n",
       "      <th>event</th>\n",
       "      <th>volunteer</th>\n",
       "      <th>time_on_site</th>\n",
       "      <th>interests</th>\n",
       "    </tr>\n",
       "  </thead>\n",
       "  <tbody>\n",
       "    <tr>\n",
       "      <th>99995</th>\n",
       "      <td>6477965</td>\n",
       "      <td>Mellon, Aaron</td>\n",
       "      <td>1921919</td>\n",
       "      <td>Russia</td>\n",
       "      <td>Saint Petersburg</td>\n",
       "      <td>1967-03-27</td>\n",
       "      <td>N</td>\n",
       "      <td>NaN</td>\n",
       "      <td>NaN</td>\n",
       "      <td>NaN</td>\n",
       "      <td>...</td>\n",
       "      <td>$50k - $75K</td>\n",
       "      <td>screening</td>\n",
       "      <td>Non-Hispanic white</td>\n",
       "      <td>NaN</td>\n",
       "      <td>11.0</td>\n",
       "      <td>NaN</td>\n",
       "      <td>N</td>\n",
       "      <td>NaN</td>\n",
       "      <td>NaN</td>\n",
       "      <td>sports,food/dining/cooking</td>\n",
       "    </tr>\n",
       "    <tr>\n",
       "      <th>99996</th>\n",
       "      <td>4608102</td>\n",
       "      <td>Garman, Mirza</td>\n",
       "      <td>1922047</td>\n",
       "      <td>Russia</td>\n",
       "      <td>Saint Petersburg</td>\n",
       "      <td>1982-06-24</td>\n",
       "      <td>N</td>\n",
       "      <td>NaN</td>\n",
       "      <td>NaN</td>\n",
       "      <td>NaN</td>\n",
       "      <td>...</td>\n",
       "      <td>$5k - $10k</td>\n",
       "      <td>institutional</td>\n",
       "      <td>Non-Hispanic white</td>\n",
       "      <td>2019-01-03</td>\n",
       "      <td>NaN</td>\n",
       "      <td>NaN</td>\n",
       "      <td>Y</td>\n",
       "      <td>NaN</td>\n",
       "      <td>NaN</td>\n",
       "      <td>fashion,sports,hunting/fishing,cars</td>\n",
       "    </tr>\n",
       "    <tr>\n",
       "      <th>99997</th>\n",
       "      <td>4577636</td>\n",
       "      <td>el-Atallah, Faadi</td>\n",
       "      <td>1922047</td>\n",
       "      <td>Russia</td>\n",
       "      <td>Saint Petersburg</td>\n",
       "      <td>1979-11-22</td>\n",
       "      <td>N</td>\n",
       "      <td>NaN</td>\n",
       "      <td>NaN</td>\n",
       "      <td>NaN</td>\n",
       "      <td>...</td>\n",
       "      <td>$5k - $10k</td>\n",
       "      <td>screening</td>\n",
       "      <td>Asian</td>\n",
       "      <td>NaN</td>\n",
       "      <td>6.0</td>\n",
       "      <td>NaN</td>\n",
       "      <td>N</td>\n",
       "      <td>NaN</td>\n",
       "      <td>NaN</td>\n",
       "      <td>NaN</td>\n",
       "    </tr>\n",
       "    <tr>\n",
       "      <th>99998</th>\n",
       "      <td>8971611</td>\n",
       "      <td>Ponce, Jessica</td>\n",
       "      <td>1922075</td>\n",
       "      <td>Russia</td>\n",
       "      <td>Saint Petersburg</td>\n",
       "      <td>1966-01-21</td>\n",
       "      <td>N</td>\n",
       "      <td>NaN</td>\n",
       "      <td>NaN</td>\n",
       "      <td>NaN</td>\n",
       "      <td>...</td>\n",
       "      <td>$250k - $500k</td>\n",
       "      <td>screening</td>\n",
       "      <td>Non-Hispanic white</td>\n",
       "      <td>2017-04-08</td>\n",
       "      <td>18.0</td>\n",
       "      <td>NaN</td>\n",
       "      <td>Y</td>\n",
       "      <td>NaN</td>\n",
       "      <td>NaN</td>\n",
       "      <td>boating/sailing,cars,sports</td>\n",
       "    </tr>\n",
       "    <tr>\n",
       "      <th>99999</th>\n",
       "      <td>5138178</td>\n",
       "      <td>Cochran, Abren</td>\n",
       "      <td>1922075</td>\n",
       "      <td>Russia</td>\n",
       "      <td>Saint Petersburg</td>\n",
       "      <td>1963-12-20</td>\n",
       "      <td>N</td>\n",
       "      <td>NaN</td>\n",
       "      <td>NaN</td>\n",
       "      <td>NaN</td>\n",
       "      <td>...</td>\n",
       "      <td>$250k - $500k</td>\n",
       "      <td>institutional</td>\n",
       "      <td>Non-Hispanic white</td>\n",
       "      <td>2017-02-19</td>\n",
       "      <td>15.0</td>\n",
       "      <td>NaN</td>\n",
       "      <td>N</td>\n",
       "      <td>NaN</td>\n",
       "      <td>159.0</td>\n",
       "      <td>NaN</td>\n",
       "    </tr>\n",
       "  </tbody>\n",
       "</table>\n",
       "<p>5 rows × 21 columns</p>\n",
       "</div>"
      ],
      "text/plain": [
       "            id               name  household_id country              city  \\\n",
       "99995  6477965      Mellon, Aaron       1921919  Russia  Saint Petersburg   \n",
       "99996  4608102      Garman, Mirza       1922047  Russia  Saint Petersburg   \n",
       "99997  4577636  el-Atallah, Faadi       1922047  Russia  Saint Petersburg   \n",
       "99998  8971611     Ponce, Jessica       1922075  Russia  Saint Petersburg   \n",
       "99999  5138178     Cochran, Abren       1922075  Russia  Saint Petersburg   \n",
       "\n",
       "         birthday deceased  zip state  lat  ...       capacity  \\\n",
       "99995  1967-03-27        N  NaN   NaN  NaN  ...    $50k - $75K   \n",
       "99996  1982-06-24        N  NaN   NaN  NaN  ...     $5k - $10k   \n",
       "99997  1979-11-22        N  NaN   NaN  NaN  ...     $5k - $10k   \n",
       "99998  1966-01-21        N  NaN   NaN  NaN  ...  $250k - $500k   \n",
       "99999  1963-12-20        N  NaN   NaN  NaN  ...  $250k - $500k   \n",
       "\n",
       "      capacity_source                race last_contact numer_of_contacts  \\\n",
       "99995       screening  Non-Hispanic white          NaN              11.0   \n",
       "99996   institutional  Non-Hispanic white   2019-01-03               NaN   \n",
       "99997       screening               Asian          NaN               6.0   \n",
       "99998       screening  Non-Hispanic white   2017-04-08              18.0   \n",
       "99999   institutional  Non-Hispanic white   2017-02-19              15.0   \n",
       "\n",
       "       gift_officer event volunteer  time_on_site  \\\n",
       "99995           NaN     N       NaN           NaN   \n",
       "99996           NaN     Y       NaN           NaN   \n",
       "99997           NaN     N       NaN           NaN   \n",
       "99998           NaN     Y       NaN           NaN   \n",
       "99999           NaN     N       NaN         159.0   \n",
       "\n",
       "                                 interests  \n",
       "99995           sports,food/dining/cooking  \n",
       "99996  fashion,sports,hunting/fishing,cars  \n",
       "99997                                  NaN  \n",
       "99998          boating/sailing,cars,sports  \n",
       "99999                                  NaN  \n",
       "\n",
       "[5 rows x 21 columns]"
      ]
     },
     "execution_count": 10,
     "metadata": {},
     "output_type": "execute_result"
    }
   ],
   "source": [
    "bioengagemerge.tail()"
   ]
  },
  {
   "cell_type": "code",
   "execution_count": 12,
   "metadata": {},
   "outputs": [
    {
     "data": {
      "text/plain": [
       "Index(['id', 'name', 'household_id', 'country', 'city', 'birthday', 'deceased',\n",
       "       'zip', 'state', 'lat', 'lon', 'capacity', 'capacity_source', 'race',\n",
       "       'last_contact', 'numer_of_contacts', 'gift_officer', 'event',\n",
       "       'volunteer', 'time_on_site', 'interests'],\n",
       "      dtype='object')"
      ]
     },
     "execution_count": 12,
     "metadata": {},
     "output_type": "execute_result"
    }
   ],
   "source": [
    "bioengagemerge.columns"
   ]
  },
  {
   "cell_type": "code",
   "execution_count": 18,
   "metadata": {},
   "outputs": [
    {
     "name": "stdout",
     "output_type": "stream",
     "text": [
      "<class 'pandas.core.frame.DataFrame'>\n",
      "Int64Index: 100000 entries, 0 to 99999\n",
      "Data columns (total 21 columns):\n",
      " #   Column             Non-Null Count   Dtype  \n",
      "---  ------             --------------   -----  \n",
      " 0   id                 100000 non-null  int64  \n",
      " 1   name               100000 non-null  object \n",
      " 2   household_id       100000 non-null  int64  \n",
      " 3   country            100000 non-null  object \n",
      " 4   city               100000 non-null  object \n",
      " 5   birthday           90000 non-null   object \n",
      " 6   deceased           90000 non-null   object \n",
      " 7   zip                90000 non-null   float64\n",
      " 8   state              90000 non-null   object \n",
      " 9   lat                90000 non-null   float64\n",
      " 10  lon                90000 non-null   float64\n",
      " 11  capacity           90000 non-null   object \n",
      " 12  capacity_source    90000 non-null   object \n",
      " 13  race               100000 non-null  object \n",
      " 14  last_contact       63634 non-null   object \n",
      " 15  numer_of_contacts  83801 non-null   float64\n",
      " 16  gift_officer       3589 non-null    object \n",
      " 17  event              90002 non-null   object \n",
      " 18  volunteer          8969 non-null    float64\n",
      " 19  time_on_site       20002 non-null   float64\n",
      " 20  interests          63801 non-null   object \n",
      "dtypes: float64(6), int64(2), object(13)\n",
      "memory usage: 16.8+ MB\n"
     ]
    }
   ],
   "source": [
    "bioengagemerge.info()"
   ]
  },
  {
   "cell_type": "code",
   "execution_count": 20,
   "metadata": {},
   "outputs": [
    {
     "data": {
      "text/plain": [
       "N    79902\n",
       "Y    10098\n",
       "Name: deceased, dtype: int64"
      ]
     },
     "execution_count": 20,
     "metadata": {},
     "output_type": "execute_result"
    }
   ],
   "source": [
    "bioengagemerge.deceased.value_counts()"
   ]
  },
  {
   "cell_type": "code",
   "execution_count": 13,
   "metadata": {},
   "outputs": [
    {
     "data": {
      "text/plain": [
       "United States    90000\n",
       "China             5000\n",
       "India              800\n",
       "Pakistan           600\n",
       "Nigeria            600\n",
       "Indonesia          600\n",
       "Brazil             600\n",
       "Russia             600\n",
       "Bangladesh         600\n",
       "Mexico             600\n",
       "Name: country, dtype: int64"
      ]
     },
     "execution_count": 13,
     "metadata": {},
     "output_type": "execute_result"
    }
   ],
   "source": [
    "bioengagemerge.country.value_counts()"
   ]
  },
  {
   "cell_type": "code",
   "execution_count": 14,
   "metadata": {},
   "outputs": [
    {
     "data": {
      "text/plain": [
       "el-Sawaya, Waseema    208\n",
       "Yang, Andrew          197\n",
       "al-Salim, Hamdaan     196\n",
       "Walter, Dianna        191\n",
       "Estrada, Jorge        189\n",
       "Masters, Deisha       188\n",
       "Kim, Felicia          184\n",
       "al-Mourad, Haajid     183\n",
       "al-Salem, Ma,Roof     181\n",
       "Topper, Kyle          180\n",
       "al-Jaffer, Awda       178\n",
       "Tolbert, Yekalo       178\n",
       "Bowyer, Ryan          178\n",
       "Varelas, Michael      174\n",
       "Porras, Marisa        173\n",
       "Ha, John              172\n",
       "White, Abigail        172\n",
       "al-Hakeem, Haamid     169\n",
       "Middleton, Lauren     154\n",
       "Sanchez, Nohemi       144\n",
       "Name: gift_officer, dtype: int64"
      ]
     },
     "execution_count": 14,
     "metadata": {},
     "output_type": "execute_result"
    }
   ],
   "source": [
    "bioengagemerge.gift_officer.value_counts()"
   ]
  },
  {
   "cell_type": "code",
   "execution_count": 17,
   "metadata": {},
   "outputs": [
    {
     "data": {
      "text/plain": [
       "boating/sailing                                   978\n",
       "skiing                                            961\n",
       "wine                                              947\n",
       "reading                                           926\n",
       "art                                               924\n",
       "                                                 ... \n",
       "hunting/fishing,wine,art,politics                   1\n",
       "golf,cars,boating/sailing,art                       1\n",
       "reading,golf,art,sports,cars                        1\n",
       "travel,food/dining/cooking,health/exercise,art      1\n",
       "skiing,politics,art,travel                          1\n",
       "Name: interests, Length: 24575, dtype: int64"
      ]
     },
     "execution_count": 17,
     "metadata": {},
     "output_type": "execute_result"
    }
   ],
   "source": [
    "bioengagemerge.interests.value_counts()"
   ]
  },
  {
   "cell_type": "code",
   "execution_count": 21,
   "metadata": {},
   "outputs": [
    {
     "data": {
      "text/html": [
       "<div>\n",
       "<style scoped>\n",
       "    .dataframe tbody tr th:only-of-type {\n",
       "        vertical-align: middle;\n",
       "    }\n",
       "\n",
       "    .dataframe tbody tr th {\n",
       "        vertical-align: top;\n",
       "    }\n",
       "\n",
       "    .dataframe thead th {\n",
       "        text-align: right;\n",
       "    }\n",
       "</style>\n",
       "<table border=\"1\" class=\"dataframe\">\n",
       "  <thead>\n",
       "    <tr style=\"text-align: right;\">\n",
       "      <th></th>\n",
       "      <th>id</th>\n",
       "      <th>household_id</th>\n",
       "      <th>zip</th>\n",
       "      <th>lat</th>\n",
       "      <th>lon</th>\n",
       "      <th>numer_of_contacts</th>\n",
       "      <th>volunteer</th>\n",
       "      <th>time_on_site</th>\n",
       "    </tr>\n",
       "  </thead>\n",
       "  <tbody>\n",
       "    <tr>\n",
       "      <th>count</th>\n",
       "      <td>1.000000e+05</td>\n",
       "      <td>1.000000e+05</td>\n",
       "      <td>90000.000000</td>\n",
       "      <td>90000.000000</td>\n",
       "      <td>90000.000000</td>\n",
       "      <td>83801.000000</td>\n",
       "      <td>8969.000000</td>\n",
       "      <td>20002.000000</td>\n",
       "    </tr>\n",
       "    <tr>\n",
       "      <th>mean</th>\n",
       "      <td>5.504808e+06</td>\n",
       "      <td>5.520820e+06</td>\n",
       "      <td>50228.713744</td>\n",
       "      <td>37.649065</td>\n",
       "      <td>-91.455561</td>\n",
       "      <td>15.153280</td>\n",
       "      <td>0.218642</td>\n",
       "      <td>335.316518</td>\n",
       "    </tr>\n",
       "    <tr>\n",
       "      <th>std</th>\n",
       "      <td>2.593475e+06</td>\n",
       "      <td>2.587095e+06</td>\n",
       "      <td>29650.363076</td>\n",
       "      <td>5.203071</td>\n",
       "      <td>16.390225</td>\n",
       "      <td>12.400124</td>\n",
       "      <td>0.413348</td>\n",
       "      <td>236.557722</td>\n",
       "    </tr>\n",
       "    <tr>\n",
       "      <th>min</th>\n",
       "      <td>1.000065e+06</td>\n",
       "      <td>1.000399e+06</td>\n",
       "      <td>1001.000000</td>\n",
       "      <td>19.540000</td>\n",
       "      <td>-159.520000</td>\n",
       "      <td>0.000000</td>\n",
       "      <td>0.000000</td>\n",
       "      <td>1.000000</td>\n",
       "    </tr>\n",
       "    <tr>\n",
       "      <th>25%</th>\n",
       "      <td>3.264957e+06</td>\n",
       "      <td>3.291076e+06</td>\n",
       "      <td>26847.000000</td>\n",
       "      <td>33.920000</td>\n",
       "      <td>-97.740000</td>\n",
       "      <td>4.000000</td>\n",
       "      <td>0.000000</td>\n",
       "      <td>137.000000</td>\n",
       "    </tr>\n",
       "    <tr>\n",
       "      <th>50%</th>\n",
       "      <td>5.501357e+06</td>\n",
       "      <td>5.532263e+06</td>\n",
       "      <td>47106.000000</td>\n",
       "      <td>38.790000</td>\n",
       "      <td>-86.510000</td>\n",
       "      <td>13.000000</td>\n",
       "      <td>0.000000</td>\n",
       "      <td>293.000000</td>\n",
       "    </tr>\n",
       "    <tr>\n",
       "      <th>75%</th>\n",
       "      <td>7.746170e+06</td>\n",
       "      <td>7.746223e+06</td>\n",
       "      <td>77515.000000</td>\n",
       "      <td>41.330000</td>\n",
       "      <td>-79.630000</td>\n",
       "      <td>24.000000</td>\n",
       "      <td>0.000000</td>\n",
       "      <td>503.000000</td>\n",
       "    </tr>\n",
       "    <tr>\n",
       "      <th>max</th>\n",
       "      <td>9.999979e+06</td>\n",
       "      <td>9.999973e+06</td>\n",
       "      <td>99901.000000</td>\n",
       "      <td>64.900000</td>\n",
       "      <td>-67.110000</td>\n",
       "      <td>50.000000</td>\n",
       "      <td>1.000000</td>\n",
       "      <td>994.000000</td>\n",
       "    </tr>\n",
       "  </tbody>\n",
       "</table>\n",
       "</div>"
      ],
      "text/plain": [
       "                 id  household_id           zip           lat           lon  \\\n",
       "count  1.000000e+05  1.000000e+05  90000.000000  90000.000000  90000.000000   \n",
       "mean   5.504808e+06  5.520820e+06  50228.713744     37.649065    -91.455561   \n",
       "std    2.593475e+06  2.587095e+06  29650.363076      5.203071     16.390225   \n",
       "min    1.000065e+06  1.000399e+06   1001.000000     19.540000   -159.520000   \n",
       "25%    3.264957e+06  3.291076e+06  26847.000000     33.920000    -97.740000   \n",
       "50%    5.501357e+06  5.532263e+06  47106.000000     38.790000    -86.510000   \n",
       "75%    7.746170e+06  7.746223e+06  77515.000000     41.330000    -79.630000   \n",
       "max    9.999979e+06  9.999973e+06  99901.000000     64.900000    -67.110000   \n",
       "\n",
       "       numer_of_contacts    volunteer  time_on_site  \n",
       "count       83801.000000  8969.000000  20002.000000  \n",
       "mean           15.153280     0.218642    335.316518  \n",
       "std            12.400124     0.413348    236.557722  \n",
       "min             0.000000     0.000000      1.000000  \n",
       "25%             4.000000     0.000000    137.000000  \n",
       "50%            13.000000     0.000000    293.000000  \n",
       "75%            24.000000     0.000000    503.000000  \n",
       "max            50.000000     1.000000    994.000000  "
      ]
     },
     "execution_count": 21,
     "metadata": {},
     "output_type": "execute_result"
    }
   ],
   "source": [
    "bioengagemerge.describe()"
   ]
  },
  {
   "cell_type": "code",
   "execution_count": 23,
   "metadata": {},
   "outputs": [],
   "source": [
    "from pandas_profiling import ProfileReport"
   ]
  },
  {
   "cell_type": "code",
   "execution_count": 28,
   "metadata": {
    "scrolled": true
   },
   "outputs": [
    {
     "data": {
      "application/vnd.jupyter.widget-view+json": {
       "model_id": "d80795aaa84a4c5e8964368cb68dae1e",
       "version_major": 2,
       "version_minor": 0
      },
      "text/plain": [
       "HBox(children=(FloatProgress(value=0.0, description='variables', max=21.0, style=ProgressStyle(description_wid…"
      ]
     },
     "metadata": {},
     "output_type": "display_data"
    },
    {
     "name": "stdout",
     "output_type": "stream",
     "text": [
      "\n"
     ]
    },
    {
     "data": {
      "application/vnd.jupyter.widget-view+json": {
       "model_id": "e04f16af319a4e4b874d296e48715af1",
       "version_major": 2,
       "version_minor": 0
      },
      "text/plain": [
       "HBox(children=(FloatProgress(value=0.0, description='table', max=1.0, style=ProgressStyle(description_width='i…"
      ]
     },
     "metadata": {},
     "output_type": "display_data"
    },
    {
     "name": "stdout",
     "output_type": "stream",
     "text": [
      "\n"
     ]
    },
    {
     "data": {
      "application/vnd.jupyter.widget-view+json": {
       "model_id": "c34095221d0e4de1a2db00efc6845238",
       "version_major": 2,
       "version_minor": 0
      },
      "text/plain": [
       "HBox(children=(FloatProgress(value=0.0, description='warnings', max=3.0, style=ProgressStyle(description_width…"
      ]
     },
     "metadata": {},
     "output_type": "display_data"
    },
    {
     "name": "stdout",
     "output_type": "stream",
     "text": [
      "\n"
     ]
    },
    {
     "data": {
      "application/vnd.jupyter.widget-view+json": {
       "model_id": "cbe8e121cda64024987d98b02fb0013f",
       "version_major": 2,
       "version_minor": 0
      },
      "text/plain": [
       "HBox(children=(FloatProgress(value=0.0, description='package', max=1.0, style=ProgressStyle(description_width=…"
      ]
     },
     "metadata": {},
     "output_type": "display_data"
    },
    {
     "name": "stdout",
     "output_type": "stream",
     "text": [
      "\n"
     ]
    },
    {
     "data": {
      "application/vnd.jupyter.widget-view+json": {
       "model_id": "0770bb607e37444bb62747aa6e53cdd1",
       "version_major": 2,
       "version_minor": 0
      },
      "text/plain": [
       "HBox(children=(FloatProgress(value=0.0, description='build report structure', max=1.0, style=ProgressStyle(des…"
      ]
     },
     "metadata": {},
     "output_type": "display_data"
    },
    {
     "name": "stdout",
     "output_type": "stream",
     "text": [
      "\n"
     ]
    }
   ],
   "source": [
    "profileBioEngage = ProfileReport(bioengagemerge, minimal=True)\n",
    "profileBioEngage.to_file(output_file='BioEngageoutput.html')"
   ]
  },
  {
   "cell_type": "markdown",
   "metadata": {},
   "source": [
    "## MERGE Data Files: + Giving Data"
   ]
  },
  {
   "cell_type": "code",
   "execution_count": 29,
   "metadata": {},
   "outputs": [
    {
     "ename": "KeyError",
     "evalue": "'id'",
     "output_type": "error",
     "traceback": [
      "\u001b[1;31m---------------------------------------------------------------------------\u001b[0m",
      "\u001b[1;31mKeyError\u001b[0m                                  Traceback (most recent call last)",
      "\u001b[1;32m<ipython-input-29-81e1eff13d8c>\u001b[0m in \u001b[0;36m<module>\u001b[1;34m\u001b[0m\n\u001b[1;32m----> 1\u001b[1;33m \u001b[0mallmerge\u001b[0m \u001b[1;33m=\u001b[0m \u001b[0mpd\u001b[0m\u001b[1;33m.\u001b[0m\u001b[0mmerge\u001b[0m\u001b[1;33m(\u001b[0m\u001b[0mbioengagemerge\u001b[0m\u001b[1;33m,\u001b[0m \u001b[0mgiftdata\u001b[0m\u001b[1;33m,\u001b[0m \u001b[0mon\u001b[0m\u001b[1;33m=\u001b[0m\u001b[1;34m\"id\"\u001b[0m\u001b[1;33m,\u001b[0m \u001b[0mhow\u001b[0m\u001b[1;33m=\u001b[0m\u001b[1;34m\"left\"\u001b[0m\u001b[1;33m)\u001b[0m\u001b[1;33m\u001b[0m\u001b[1;33m\u001b[0m\u001b[0m\n\u001b[0m",
      "\u001b[1;32mC:\\Anaconda3\\lib\\site-packages\\pandas\\core\\reshape\\merge.py\u001b[0m in \u001b[0;36mmerge\u001b[1;34m(left, right, how, on, left_on, right_on, left_index, right_index, sort, suffixes, copy, indicator, validate)\u001b[0m\n\u001b[0;32m     84\u001b[0m         \u001b[0mcopy\u001b[0m\u001b[1;33m=\u001b[0m\u001b[0mcopy\u001b[0m\u001b[1;33m,\u001b[0m\u001b[1;33m\u001b[0m\u001b[1;33m\u001b[0m\u001b[0m\n\u001b[0;32m     85\u001b[0m         \u001b[0mindicator\u001b[0m\u001b[1;33m=\u001b[0m\u001b[0mindicator\u001b[0m\u001b[1;33m,\u001b[0m\u001b[1;33m\u001b[0m\u001b[1;33m\u001b[0m\u001b[0m\n\u001b[1;32m---> 86\u001b[1;33m         \u001b[0mvalidate\u001b[0m\u001b[1;33m=\u001b[0m\u001b[0mvalidate\u001b[0m\u001b[1;33m,\u001b[0m\u001b[1;33m\u001b[0m\u001b[1;33m\u001b[0m\u001b[0m\n\u001b[0m\u001b[0;32m     87\u001b[0m     )\n\u001b[0;32m     88\u001b[0m     \u001b[1;32mreturn\u001b[0m \u001b[0mop\u001b[0m\u001b[1;33m.\u001b[0m\u001b[0mget_result\u001b[0m\u001b[1;33m(\u001b[0m\u001b[1;33m)\u001b[0m\u001b[1;33m\u001b[0m\u001b[1;33m\u001b[0m\u001b[0m\n",
      "\u001b[1;32mC:\\Anaconda3\\lib\\site-packages\\pandas\\core\\reshape\\merge.py\u001b[0m in \u001b[0;36m__init__\u001b[1;34m(self, left, right, how, on, left_on, right_on, axis, left_index, right_index, sort, suffixes, copy, indicator, validate)\u001b[0m\n\u001b[0;32m    625\u001b[0m             \u001b[0mself\u001b[0m\u001b[1;33m.\u001b[0m\u001b[0mright_join_keys\u001b[0m\u001b[1;33m,\u001b[0m\u001b[1;33m\u001b[0m\u001b[1;33m\u001b[0m\u001b[0m\n\u001b[0;32m    626\u001b[0m             \u001b[0mself\u001b[0m\u001b[1;33m.\u001b[0m\u001b[0mjoin_names\u001b[0m\u001b[1;33m,\u001b[0m\u001b[1;33m\u001b[0m\u001b[1;33m\u001b[0m\u001b[0m\n\u001b[1;32m--> 627\u001b[1;33m         ) = self._get_merge_keys()\n\u001b[0m\u001b[0;32m    628\u001b[0m \u001b[1;33m\u001b[0m\u001b[0m\n\u001b[0;32m    629\u001b[0m         \u001b[1;31m# validate the merge keys dtypes. We may need to coerce\u001b[0m\u001b[1;33m\u001b[0m\u001b[1;33m\u001b[0m\u001b[1;33m\u001b[0m\u001b[0m\n",
      "\u001b[1;32mC:\\Anaconda3\\lib\\site-packages\\pandas\\core\\reshape\\merge.py\u001b[0m in \u001b[0;36m_get_merge_keys\u001b[1;34m(self)\u001b[0m\n\u001b[0;32m    981\u001b[0m                     \u001b[1;32mif\u001b[0m \u001b[1;32mnot\u001b[0m \u001b[0mis_rkey\u001b[0m\u001b[1;33m(\u001b[0m\u001b[0mrk\u001b[0m\u001b[1;33m)\u001b[0m\u001b[1;33m:\u001b[0m\u001b[1;33m\u001b[0m\u001b[1;33m\u001b[0m\u001b[0m\n\u001b[0;32m    982\u001b[0m                         \u001b[1;32mif\u001b[0m \u001b[0mrk\u001b[0m \u001b[1;32mis\u001b[0m \u001b[1;32mnot\u001b[0m \u001b[1;32mNone\u001b[0m\u001b[1;33m:\u001b[0m\u001b[1;33m\u001b[0m\u001b[1;33m\u001b[0m\u001b[0m\n\u001b[1;32m--> 983\u001b[1;33m                             \u001b[0mright_keys\u001b[0m\u001b[1;33m.\u001b[0m\u001b[0mappend\u001b[0m\u001b[1;33m(\u001b[0m\u001b[0mright\u001b[0m\u001b[1;33m.\u001b[0m\u001b[0m_get_label_or_level_values\u001b[0m\u001b[1;33m(\u001b[0m\u001b[0mrk\u001b[0m\u001b[1;33m)\u001b[0m\u001b[1;33m)\u001b[0m\u001b[1;33m\u001b[0m\u001b[1;33m\u001b[0m\u001b[0m\n\u001b[0m\u001b[0;32m    984\u001b[0m                         \u001b[1;32melse\u001b[0m\u001b[1;33m:\u001b[0m\u001b[1;33m\u001b[0m\u001b[1;33m\u001b[0m\u001b[0m\n\u001b[0;32m    985\u001b[0m                             \u001b[1;31m# work-around for merge_asof(right_index=True)\u001b[0m\u001b[1;33m\u001b[0m\u001b[1;33m\u001b[0m\u001b[1;33m\u001b[0m\u001b[0m\n",
      "\u001b[1;32mC:\\Anaconda3\\lib\\site-packages\\pandas\\core\\generic.py\u001b[0m in \u001b[0;36m_get_label_or_level_values\u001b[1;34m(self, key, axis)\u001b[0m\n\u001b[0;32m   1690\u001b[0m             \u001b[0mvalues\u001b[0m \u001b[1;33m=\u001b[0m \u001b[0mself\u001b[0m\u001b[1;33m.\u001b[0m\u001b[0maxes\u001b[0m\u001b[1;33m[\u001b[0m\u001b[0maxis\u001b[0m\u001b[1;33m]\u001b[0m\u001b[1;33m.\u001b[0m\u001b[0mget_level_values\u001b[0m\u001b[1;33m(\u001b[0m\u001b[0mkey\u001b[0m\u001b[1;33m)\u001b[0m\u001b[1;33m.\u001b[0m\u001b[0m_values\u001b[0m\u001b[1;33m\u001b[0m\u001b[1;33m\u001b[0m\u001b[0m\n\u001b[0;32m   1691\u001b[0m         \u001b[1;32melse\u001b[0m\u001b[1;33m:\u001b[0m\u001b[1;33m\u001b[0m\u001b[1;33m\u001b[0m\u001b[0m\n\u001b[1;32m-> 1692\u001b[1;33m             \u001b[1;32mraise\u001b[0m \u001b[0mKeyError\u001b[0m\u001b[1;33m(\u001b[0m\u001b[0mkey\u001b[0m\u001b[1;33m)\u001b[0m\u001b[1;33m\u001b[0m\u001b[1;33m\u001b[0m\u001b[0m\n\u001b[0m\u001b[0;32m   1693\u001b[0m \u001b[1;33m\u001b[0m\u001b[0m\n\u001b[0;32m   1694\u001b[0m         \u001b[1;31m# Check for duplicates\u001b[0m\u001b[1;33m\u001b[0m\u001b[1;33m\u001b[0m\u001b[1;33m\u001b[0m\u001b[0m\n",
      "\u001b[1;31mKeyError\u001b[0m: 'id'"
     ]
    }
   ],
   "source": [
    "allmerge = pd.merge(bioengagemerge, giftdata, on=\"id\", how=\"left\")"
   ]
  },
  {
   "cell_type": "code",
   "execution_count": null,
   "metadata": {},
   "outputs": [],
   "source": []
  }
 ],
 "metadata": {
  "kernelspec": {
   "display_name": "Python 3",
   "language": "python",
   "name": "python3"
  },
  "language_info": {
   "codemirror_mode": {
    "name": "ipython",
    "version": 3
   },
   "file_extension": ".py",
   "mimetype": "text/x-python",
   "name": "python",
   "nbconvert_exporter": "python",
   "pygments_lexer": "ipython3",
   "version": "3.7.3"
  }
 },
 "nbformat": 4,
 "nbformat_minor": 4
}
