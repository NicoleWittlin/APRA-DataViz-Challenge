{
 "cells": [
  {
   "cell_type": "markdown",
   "metadata": {},
   "source": [
    "## READ in Files from GitHub"
   ]
  },
  {
   "cell_type": "code",
   "execution_count": 1,
   "metadata": {},
   "outputs": [],
   "source": [
    "import pandas as pd\n",
    "import numpy as np\n",
    "import matplotlib.pyplot as plt\n",
    "import seaborn as sns\n",
    "import requests\n",
    "import io"
   ]
  },
  {
   "cell_type": "code",
   "execution_count": 2,
   "metadata": {},
   "outputs": [],
   "source": [
    "# Gift Data File Path to GitHub\n",
    "\n",
    "gifturl = \"https://raw.githubusercontent.com/NicoleWittlin/APRA-DataViz-Challenge/master/giving_data_table.csv\"\n",
    "download = requests.get(gifturl).content\n",
    "giftdata = pd.read_csv(io.StringIO(download.decode(\"utf-8\")))"
   ]
  },
  {
   "cell_type": "code",
   "execution_count": 3,
   "metadata": {},
   "outputs": [],
   "source": [
    "# Bio Data File Path to GitHub\n",
    "\n",
    "biourl = \"https://raw.githubusercontent.com/NicoleWittlin/APRA-DataViz-Challenge/master/bio_data_table.csv\"\n",
    "download = requests.get(biourl).content\n",
    "biodata = pd.read_csv(io.StringIO(download.decode(\"utf-8\")))"
   ]
  },
  {
   "cell_type": "code",
   "execution_count": 4,
   "metadata": {},
   "outputs": [],
   "source": [
    "# Engagement Data File Path to GitHub\n",
    "\n",
    "engageurl = \"https://raw.githubusercontent.com/NicoleWittlin/APRA-DataViz-Challenge/master/engagement_data_table.csv\"\n",
    "download = requests.get(engageurl).content\n",
    "engagedata = pd.read_csv(io.StringIO(download.decode(\"utf-8\")))"
   ]
  },
  {
   "cell_type": "markdown",
   "metadata": {},
   "source": [
    "## Spot Check Data"
   ]
  },
  {
   "cell_type": "code",
   "execution_count": 5,
   "metadata": {},
   "outputs": [
    {
     "data": {
      "text/html": [
       "<div>\n",
       "<style scoped>\n",
       "    .dataframe tbody tr th:only-of-type {\n",
       "        vertical-align: middle;\n",
       "    }\n",
       "\n",
       "    .dataframe tbody tr th {\n",
       "        vertical-align: top;\n",
       "    }\n",
       "\n",
       "    .dataframe thead th {\n",
       "        text-align: right;\n",
       "    }\n",
       "</style>\n",
       "<table border=\"1\" class=\"dataframe\">\n",
       "  <thead>\n",
       "    <tr style=\"text-align: right;\">\n",
       "      <th></th>\n",
       "      <th>household ID</th>\n",
       "      <th>id</th>\n",
       "      <th>gift id</th>\n",
       "      <th>credit Type</th>\n",
       "      <th>gift amt</th>\n",
       "      <th>gift date</th>\n",
       "    </tr>\n",
       "  </thead>\n",
       "  <tbody>\n",
       "    <tr>\n",
       "      <th>0</th>\n",
       "      <td>9662153</td>\n",
       "      <td>8494401</td>\n",
       "      <td>2916764</td>\n",
       "      <td>Soft-Credit</td>\n",
       "      <td>385</td>\n",
       "      <td>10/21/2016</td>\n",
       "    </tr>\n",
       "    <tr>\n",
       "      <th>1</th>\n",
       "      <td>2484641</td>\n",
       "      <td>5186919</td>\n",
       "      <td>2916801</td>\n",
       "      <td>Hard-Credit</td>\n",
       "      <td>401</td>\n",
       "      <td>10/21/2016</td>\n",
       "    </tr>\n",
       "    <tr>\n",
       "      <th>2</th>\n",
       "      <td>2484641</td>\n",
       "      <td>5929757</td>\n",
       "      <td>2916801</td>\n",
       "      <td>Soft-Credit</td>\n",
       "      <td>401</td>\n",
       "      <td>10/21/2016</td>\n",
       "    </tr>\n",
       "    <tr>\n",
       "      <th>3</th>\n",
       "      <td>6982155</td>\n",
       "      <td>7005004</td>\n",
       "      <td>2916813</td>\n",
       "      <td>Hard-Credit</td>\n",
       "      <td>420</td>\n",
       "      <td>10/21/2016</td>\n",
       "    </tr>\n",
       "    <tr>\n",
       "      <th>4</th>\n",
       "      <td>6982155</td>\n",
       "      <td>3789171</td>\n",
       "      <td>2916813</td>\n",
       "      <td>Soft-Credit</td>\n",
       "      <td>420</td>\n",
       "      <td>10/21/2016</td>\n",
       "    </tr>\n",
       "  </tbody>\n",
       "</table>\n",
       "</div>"
      ],
      "text/plain": [
       "   household ID       id  gift id  credit Type  gift amt   gift date\n",
       "0       9662153  8494401  2916764  Soft-Credit       385  10/21/2016\n",
       "1       2484641  5186919  2916801  Hard-Credit       401  10/21/2016\n",
       "2       2484641  5929757  2916801  Soft-Credit       401  10/21/2016\n",
       "3       6982155  7005004  2916813  Hard-Credit       420  10/21/2016\n",
       "4       6982155  3789171  2916813  Soft-Credit       420  10/21/2016"
      ]
     },
     "execution_count": 5,
     "metadata": {},
     "output_type": "execute_result"
    }
   ],
   "source": [
    "giftdata.head()"
   ]
  },
  {
   "cell_type": "code",
   "execution_count": 6,
   "metadata": {},
   "outputs": [
    {
     "data": {
      "text/plain": [
       "Index(['household ID', 'id', 'gift id', 'credit Type', 'gift amt',\n",
       "       'gift date'],\n",
       "      dtype='object')"
      ]
     },
     "execution_count": 6,
     "metadata": {},
     "output_type": "execute_result"
    }
   ],
   "source": [
    "giftdata.columns"
   ]
  },
  {
   "cell_type": "code",
   "execution_count": 7,
   "metadata": {},
   "outputs": [
    {
     "name": "stdout",
     "output_type": "stream",
     "text": [
      "<class 'pandas.core.frame.DataFrame'>\n",
      "RangeIndex: 378001 entries, 0 to 378000\n",
      "Data columns (total 6 columns):\n",
      " #   Column        Non-Null Count   Dtype \n",
      "---  ------        --------------   ----- \n",
      " 0   household ID  378001 non-null  int64 \n",
      " 1   id            378001 non-null  int64 \n",
      " 2   gift id       378001 non-null  int64 \n",
      " 3   credit Type   378001 non-null  object\n",
      " 4   gift amt      378001 non-null  int64 \n",
      " 5   gift date     378001 non-null  object\n",
      "dtypes: int64(4), object(2)\n",
      "memory usage: 17.3+ MB\n"
     ]
    }
   ],
   "source": [
    "giftdata.info()"
   ]
  },
  {
   "cell_type": "code",
   "execution_count": 8,
   "metadata": {},
   "outputs": [
    {
     "data": {
      "text/html": [
       "<div>\n",
       "<style scoped>\n",
       "    .dataframe tbody tr th:only-of-type {\n",
       "        vertical-align: middle;\n",
       "    }\n",
       "\n",
       "    .dataframe tbody tr th {\n",
       "        vertical-align: top;\n",
       "    }\n",
       "\n",
       "    .dataframe thead th {\n",
       "        text-align: right;\n",
       "    }\n",
       "</style>\n",
       "<table border=\"1\" class=\"dataframe\">\n",
       "  <thead>\n",
       "    <tr style=\"text-align: right;\">\n",
       "      <th></th>\n",
       "      <th>id</th>\n",
       "      <th>name</th>\n",
       "      <th>household_id</th>\n",
       "      <th>country</th>\n",
       "      <th>city</th>\n",
       "      <th>birthday</th>\n",
       "      <th>deceased</th>\n",
       "      <th>zip</th>\n",
       "      <th>state</th>\n",
       "      <th>lat</th>\n",
       "      <th>lon</th>\n",
       "      <th>capacity</th>\n",
       "      <th>capacity_source</th>\n",
       "      <th>race</th>\n",
       "    </tr>\n",
       "  </thead>\n",
       "  <tbody>\n",
       "    <tr>\n",
       "      <th>0</th>\n",
       "      <td>1581317</td>\n",
       "      <td>Patterson, Aeneas</td>\n",
       "      <td>4310723</td>\n",
       "      <td>United States</td>\n",
       "      <td>Agawam</td>\n",
       "      <td>1/1/1900</td>\n",
       "      <td>N</td>\n",
       "      <td>1001.0</td>\n",
       "      <td>MA</td>\n",
       "      <td>42.06</td>\n",
       "      <td>-72.61</td>\n",
       "      <td>&gt;$1k</td>\n",
       "      <td>screening</td>\n",
       "      <td>Non-Hispanic white</td>\n",
       "    </tr>\n",
       "    <tr>\n",
       "      <th>1</th>\n",
       "      <td>9952781</td>\n",
       "      <td>Page, Casie</td>\n",
       "      <td>9248960</td>\n",
       "      <td>United States</td>\n",
       "      <td>Agawam</td>\n",
       "      <td>10/20/1958</td>\n",
       "      <td>N</td>\n",
       "      <td>1001.0</td>\n",
       "      <td>MA</td>\n",
       "      <td>42.06</td>\n",
       "      <td>-72.61</td>\n",
       "      <td>$75k - $100k</td>\n",
       "      <td>screening</td>\n",
       "      <td>Non-Hispanic white</td>\n",
       "    </tr>\n",
       "    <tr>\n",
       "      <th>2</th>\n",
       "      <td>6170220</td>\n",
       "      <td>Vasquez, James</td>\n",
       "      <td>9248960</td>\n",
       "      <td>United States</td>\n",
       "      <td>Agawam</td>\n",
       "      <td>3/10/1958</td>\n",
       "      <td>N</td>\n",
       "      <td>1001.0</td>\n",
       "      <td>MA</td>\n",
       "      <td>42.06</td>\n",
       "      <td>-72.61</td>\n",
       "      <td>$75k - $100k</td>\n",
       "      <td>screening</td>\n",
       "      <td>Non-Hispanic white</td>\n",
       "    </tr>\n",
       "    <tr>\n",
       "      <th>3</th>\n",
       "      <td>2012013</td>\n",
       "      <td>Garcia, Dezmenn</td>\n",
       "      <td>4731003</td>\n",
       "      <td>United States</td>\n",
       "      <td>Amherst</td>\n",
       "      <td>7/20/1940</td>\n",
       "      <td>Y</td>\n",
       "      <td>1002.0</td>\n",
       "      <td>MA</td>\n",
       "      <td>42.37</td>\n",
       "      <td>-72.52</td>\n",
       "      <td>$75k - $100k</td>\n",
       "      <td>NaN</td>\n",
       "      <td>Non-Hispanic white</td>\n",
       "    </tr>\n",
       "    <tr>\n",
       "      <th>4</th>\n",
       "      <td>1021063</td>\n",
       "      <td>Riefstahl, Christopher</td>\n",
       "      <td>6094904</td>\n",
       "      <td>United States</td>\n",
       "      <td>Amherst</td>\n",
       "      <td>7/24/1982</td>\n",
       "      <td>N</td>\n",
       "      <td>1002.0</td>\n",
       "      <td>MA</td>\n",
       "      <td>42.37</td>\n",
       "      <td>-72.52</td>\n",
       "      <td>$75k - $100k</td>\n",
       "      <td>institutional</td>\n",
       "      <td>Non-Hispanic white</td>\n",
       "    </tr>\n",
       "  </tbody>\n",
       "</table>\n",
       "</div>"
      ],
      "text/plain": [
       "        id                    name  household_id        country     city  \\\n",
       "0  1581317       Patterson, Aeneas       4310723  United States   Agawam   \n",
       "1  9952781             Page, Casie       9248960  United States   Agawam   \n",
       "2  6170220          Vasquez, James       9248960  United States   Agawam   \n",
       "3  2012013         Garcia, Dezmenn       4731003  United States  Amherst   \n",
       "4  1021063  Riefstahl, Christopher       6094904  United States  Amherst   \n",
       "\n",
       "     birthday deceased     zip state    lat    lon      capacity  \\\n",
       "0    1/1/1900        N  1001.0    MA  42.06 -72.61          >$1k   \n",
       "1  10/20/1958        N  1001.0    MA  42.06 -72.61  $75k - $100k   \n",
       "2   3/10/1958        N  1001.0    MA  42.06 -72.61  $75k - $100k   \n",
       "3   7/20/1940        Y  1002.0    MA  42.37 -72.52  $75k - $100k   \n",
       "4   7/24/1982        N  1002.0    MA  42.37 -72.52  $75k - $100k   \n",
       "\n",
       "  capacity_source                race  \n",
       "0       screening  Non-Hispanic white  \n",
       "1       screening  Non-Hispanic white  \n",
       "2       screening  Non-Hispanic white  \n",
       "3             NaN  Non-Hispanic white  \n",
       "4   institutional  Non-Hispanic white  "
      ]
     },
     "execution_count": 8,
     "metadata": {},
     "output_type": "execute_result"
    }
   ],
   "source": [
    "biodata.head()"
   ]
  },
  {
   "cell_type": "code",
   "execution_count": 9,
   "metadata": {},
   "outputs": [
    {
     "name": "stdout",
     "output_type": "stream",
     "text": [
      "<class 'pandas.core.frame.DataFrame'>\n",
      "RangeIndex: 100000 entries, 0 to 99999\n",
      "Data columns (total 14 columns):\n",
      " #   Column           Non-Null Count   Dtype  \n",
      "---  ------           --------------   -----  \n",
      " 0   id               100000 non-null  int64  \n",
      " 1   name             100000 non-null  object \n",
      " 2   household_id     100000 non-null  int64  \n",
      " 3   country          100000 non-null  object \n",
      " 4   city             100000 non-null  object \n",
      " 5   birthday         90000 non-null   object \n",
      " 6   deceased         90000 non-null   object \n",
      " 7   zip              90000 non-null   float64\n",
      " 8   state            90000 non-null   object \n",
      " 9   lat              90000 non-null   float64\n",
      " 10  lon              90000 non-null   float64\n",
      " 11  capacity         90000 non-null   object \n",
      " 12  capacity_source  90000 non-null   object \n",
      " 13  race             100000 non-null  object \n",
      "dtypes: float64(3), int64(2), object(9)\n",
      "memory usage: 10.7+ MB\n"
     ]
    }
   ],
   "source": [
    "biodata.info()"
   ]
  },
  {
   "cell_type": "code",
   "execution_count": 10,
   "metadata": {},
   "outputs": [
    {
     "data": {
      "text/html": [
       "<div>\n",
       "<style scoped>\n",
       "    .dataframe tbody tr th:only-of-type {\n",
       "        vertical-align: middle;\n",
       "    }\n",
       "\n",
       "    .dataframe tbody tr th {\n",
       "        vertical-align: top;\n",
       "    }\n",
       "\n",
       "    .dataframe thead th {\n",
       "        text-align: right;\n",
       "    }\n",
       "</style>\n",
       "<table border=\"1\" class=\"dataframe\">\n",
       "  <thead>\n",
       "    <tr style=\"text-align: right;\">\n",
       "      <th></th>\n",
       "      <th>id</th>\n",
       "      <th>last_contact</th>\n",
       "      <th>numer_of_contacts</th>\n",
       "      <th>gift_officer</th>\n",
       "      <th>event</th>\n",
       "      <th>volunteer</th>\n",
       "      <th>time_on_site</th>\n",
       "      <th>interests</th>\n",
       "    </tr>\n",
       "  </thead>\n",
       "  <tbody>\n",
       "    <tr>\n",
       "      <th>0</th>\n",
       "      <td>1581317</td>\n",
       "      <td>NaN</td>\n",
       "      <td>0.0</td>\n",
       "      <td>NaN</td>\n",
       "      <td>Y</td>\n",
       "      <td>NaN</td>\n",
       "      <td>432.0</td>\n",
       "      <td>skiing,golf,reading,hunting/fishing</td>\n",
       "    </tr>\n",
       "    <tr>\n",
       "      <th>1</th>\n",
       "      <td>2012013</td>\n",
       "      <td>NaN</td>\n",
       "      <td>8.0</td>\n",
       "      <td>NaN</td>\n",
       "      <td>Y</td>\n",
       "      <td>NaN</td>\n",
       "      <td>NaN</td>\n",
       "      <td>NaN</td>\n",
       "    </tr>\n",
       "    <tr>\n",
       "      <th>2</th>\n",
       "      <td>1021063</td>\n",
       "      <td>NaN</td>\n",
       "      <td>0.0</td>\n",
       "      <td>NaN</td>\n",
       "      <td>N</td>\n",
       "      <td>NaN</td>\n",
       "      <td>NaN</td>\n",
       "      <td>hunting/fishing</td>\n",
       "    </tr>\n",
       "    <tr>\n",
       "      <th>3</th>\n",
       "      <td>2725629</td>\n",
       "      <td>NaN</td>\n",
       "      <td>NaN</td>\n",
       "      <td>NaN</td>\n",
       "      <td>N</td>\n",
       "      <td>NaN</td>\n",
       "      <td>119.0</td>\n",
       "      <td>NaN</td>\n",
       "    </tr>\n",
       "    <tr>\n",
       "      <th>4</th>\n",
       "      <td>1880411</td>\n",
       "      <td>NaN</td>\n",
       "      <td>0.0</td>\n",
       "      <td>NaN</td>\n",
       "      <td>N</td>\n",
       "      <td>NaN</td>\n",
       "      <td>NaN</td>\n",
       "      <td>NaN</td>\n",
       "    </tr>\n",
       "  </tbody>\n",
       "</table>\n",
       "</div>"
      ],
      "text/plain": [
       "        id last_contact  numer_of_contacts gift_officer event  volunteer  \\\n",
       "0  1581317          NaN                0.0          NaN     Y        NaN   \n",
       "1  2012013          NaN                8.0          NaN     Y        NaN   \n",
       "2  1021063          NaN                0.0          NaN     N        NaN   \n",
       "3  2725629          NaN                NaN          NaN     N        NaN   \n",
       "4  1880411          NaN                0.0          NaN     N        NaN   \n",
       "\n",
       "   time_on_site                            interests  \n",
       "0         432.0  skiing,golf,reading,hunting/fishing  \n",
       "1           NaN                                  NaN  \n",
       "2           NaN                      hunting/fishing  \n",
       "3         119.0                                  NaN  \n",
       "4           NaN                                  NaN  "
      ]
     },
     "execution_count": 10,
     "metadata": {},
     "output_type": "execute_result"
    }
   ],
   "source": [
    "engagedata.head()"
   ]
  },
  {
   "cell_type": "code",
   "execution_count": 11,
   "metadata": {},
   "outputs": [
    {
     "name": "stdout",
     "output_type": "stream",
     "text": [
      "<class 'pandas.core.frame.DataFrame'>\n",
      "RangeIndex: 100000 entries, 0 to 99999\n",
      "Data columns (total 8 columns):\n",
      " #   Column             Non-Null Count   Dtype  \n",
      "---  ------             --------------   -----  \n",
      " 0   id                 100000 non-null  int64  \n",
      " 1   last_contact       63634 non-null   object \n",
      " 2   numer_of_contacts  83801 non-null   float64\n",
      " 3   gift_officer       3589 non-null    object \n",
      " 4   event              90002 non-null   object \n",
      " 5   volunteer          8969 non-null    float64\n",
      " 6   time_on_site       20002 non-null   float64\n",
      " 7   interests          63801 non-null   object \n",
      "dtypes: float64(3), int64(1), object(4)\n",
      "memory usage: 6.1+ MB\n"
     ]
    }
   ],
   "source": [
    "engagedata.info()"
   ]
  },
  {
   "cell_type": "markdown",
   "metadata": {},
   "source": [
    "## Data Clean Up"
   ]
  },
  {
   "cell_type": "code",
   "execution_count": 12,
   "metadata": {},
   "outputs": [],
   "source": [
    "# Deceased -- make all blankes N\n",
    "# df['deceased'] = df['deceased'].fillna('N')\n",
    "biodata['deceased'] = biodata['deceased'].fillna('N')"
   ]
  },
  {
   "cell_type": "code",
   "execution_count": 13,
   "metadata": {},
   "outputs": [
    {
     "name": "stdout",
     "output_type": "stream",
     "text": [
      "<class 'pandas.core.frame.DataFrame'>\n",
      "RangeIndex: 100000 entries, 0 to 99999\n",
      "Data columns (total 14 columns):\n",
      " #   Column           Non-Null Count   Dtype  \n",
      "---  ------           --------------   -----  \n",
      " 0   id               100000 non-null  int64  \n",
      " 1   name             100000 non-null  object \n",
      " 2   household_id     100000 non-null  int64  \n",
      " 3   country          100000 non-null  object \n",
      " 4   city             100000 non-null  object \n",
      " 5   birthday         90000 non-null   object \n",
      " 6   deceased         100000 non-null  object \n",
      " 7   zip              90000 non-null   float64\n",
      " 8   state            90000 non-null   object \n",
      " 9   lat              90000 non-null   float64\n",
      " 10  lon              90000 non-null   float64\n",
      " 11  capacity         90000 non-null   object \n",
      " 12  capacity_source  90000 non-null   object \n",
      " 13  race             100000 non-null  object \n",
      "dtypes: float64(3), int64(2), object(9)\n",
      "memory usage: 10.7+ MB\n"
     ]
    }
   ],
   "source": [
    "biodata.info()"
   ]
  },
  {
   "cell_type": "markdown",
   "metadata": {},
   "source": [
    "## MERGE Data Files: Bio + Engagement"
   ]
  },
  {
   "cell_type": "code",
   "execution_count": null,
   "metadata": {},
   "outputs": [],
   "source": [
    "bioengagemerge = pd.merge(biodata, engagedata, on=\"id\", how=\"left\")"
   ]
  },
  {
   "cell_type": "code",
   "execution_count": null,
   "metadata": {},
   "outputs": [],
   "source": [
    "bioengagemerge.head()"
   ]
  },
  {
   "cell_type": "code",
   "execution_count": null,
   "metadata": {},
   "outputs": [],
   "source": [
    "bioengagemerge.tail()"
   ]
  },
  {
   "cell_type": "code",
   "execution_count": null,
   "metadata": {},
   "outputs": [],
   "source": [
    "bioengagemerge.columns"
   ]
  },
  {
   "cell_type": "code",
   "execution_count": null,
   "metadata": {},
   "outputs": [],
   "source": [
    "bioengagemerge.info()"
   ]
  },
  {
   "cell_type": "code",
   "execution_count": null,
   "metadata": {},
   "outputs": [],
   "source": [
    "bioengagemerge.deceased.value_counts()"
   ]
  },
  {
   "cell_type": "code",
   "execution_count": null,
   "metadata": {},
   "outputs": [],
   "source": [
    "bioengagemerge.country.value_counts()"
   ]
  },
  {
   "cell_type": "code",
   "execution_count": null,
   "metadata": {},
   "outputs": [],
   "source": [
    "bioengagemerge.gift_officer.value_counts()"
   ]
  },
  {
   "cell_type": "code",
   "execution_count": null,
   "metadata": {},
   "outputs": [],
   "source": [
    "bioengagemerge.interests.value_counts()"
   ]
  },
  {
   "cell_type": "code",
   "execution_count": null,
   "metadata": {},
   "outputs": [],
   "source": [
    "bioengagemerge.describe()"
   ]
  },
  {
   "cell_type": "code",
   "execution_count": null,
   "metadata": {},
   "outputs": [],
   "source": [
    "from pandas_profiling import ProfileReport"
   ]
  },
  {
   "cell_type": "code",
   "execution_count": null,
   "metadata": {
    "scrolled": true
   },
   "outputs": [],
   "source": [
    "profileBioEngage = ProfileReport(bioengagemerge, minimal=True)\n",
    "profileBioEngage.to_file(output_file='BioEngageoutput.html')"
   ]
  },
  {
   "cell_type": "markdown",
   "metadata": {},
   "source": [
    "## MERGE Data Files: + Giving Data"
   ]
  },
  {
   "cell_type": "code",
   "execution_count": null,
   "metadata": {},
   "outputs": [],
   "source": [
    "giftdata = giftdata.rename(columns={\"ID\": \"id\"}, errors=\"raise\")"
   ]
  },
  {
   "cell_type": "code",
   "execution_count": null,
   "metadata": {},
   "outputs": [],
   "source": [
    "allmerge = pd.merge(bioengagemerge, giftdata, on=\"id\", how=\"left\")"
   ]
  },
  {
   "cell_type": "code",
   "execution_count": null,
   "metadata": {},
   "outputs": [],
   "source": [
    "allmerge.head()"
   ]
  },
  {
   "cell_type": "code",
   "execution_count": null,
   "metadata": {},
   "outputs": [],
   "source": [
    "allmerge.tail()"
   ]
  },
  {
   "cell_type": "code",
   "execution_count": null,
   "metadata": {},
   "outputs": [],
   "source": [
    "allmerge.info()"
   ]
  },
  {
   "cell_type": "code",
   "execution_count": null,
   "metadata": {},
   "outputs": [],
   "source": [
    "allmerge.describe()"
   ]
  },
  {
   "cell_type": "code",
   "execution_count": null,
   "metadata": {},
   "outputs": [],
   "source": [
    "profileAll = ProfileReport(allmerge, minimal=True)\n",
    "profileAll.to_file(output_file='Alloutput.html')"
   ]
  },
  {
   "cell_type": "code",
   "execution_count": null,
   "metadata": {},
   "outputs": [],
   "source": [
    "## LOOKS LIKE THE $385 GIFT IS MISSING A HARD CREDIT PAIR\n",
    "allmerge.loc[allmerge['id'] == 8494401]"
   ]
  },
  {
   "cell_type": "code",
   "execution_count": null,
   "metadata": {},
   "outputs": [],
   "source": [
    "allmerge.loc[allmerge['id'] == 7252527]"
   ]
  },
  {
   "cell_type": "markdown",
   "metadata": {},
   "source": [
    "## Managed Donors with no gift and no contact in 2020"
   ]
  },
  {
   "cell_type": "code",
   "execution_count": null,
   "metadata": {},
   "outputs": [],
   "source": [
    "manageddonors = bioengagemerge.dropna(subset=['gift_officer'])"
   ]
  },
  {
   "cell_type": "code",
   "execution_count": null,
   "metadata": {},
   "outputs": [],
   "source": [
    "manageddonors.head()"
   ]
  },
  {
   "cell_type": "code",
   "execution_count": null,
   "metadata": {},
   "outputs": [],
   "source": [
    "manageddonors.tail()"
   ]
  },
  {
   "cell_type": "code",
   "execution_count": null,
   "metadata": {},
   "outputs": [],
   "source": [
    "manageddonors.info()"
   ]
  },
  {
   "cell_type": "code",
   "execution_count": null,
   "metadata": {},
   "outputs": [],
   "source": [
    "manageddonors.deceased.value_counts()"
   ]
  },
  {
   "cell_type": "code",
   "execution_count": null,
   "metadata": {},
   "outputs": [],
   "source": [
    "deceased = manageddonors[manageddonors['deceased'] == 'Y']"
   ]
  },
  {
   "cell_type": "code",
   "execution_count": null,
   "metadata": {},
   "outputs": [],
   "source": [
    "deceased.head()"
   ]
  },
  {
   "cell_type": "code",
   "execution_count": null,
   "metadata": {},
   "outputs": [],
   "source": [
    "deceased.to_csv('deceased.csv')"
   ]
  },
  {
   "cell_type": "code",
   "execution_count": null,
   "metadata": {},
   "outputs": [],
   "source": [
    "activemanage = manageddonors[manageddonors['deceased'] == 'N']"
   ]
  },
  {
   "cell_type": "code",
   "execution_count": null,
   "metadata": {},
   "outputs": [],
   "source": [
    "activemanage.head()"
   ]
  },
  {
   "cell_type": "code",
   "execution_count": null,
   "metadata": {},
   "outputs": [],
   "source": [
    "activemanage.info()"
   ]
  },
  {
   "cell_type": "code",
   "execution_count": null,
   "metadata": {},
   "outputs": [],
   "source": [
    "activemanage.deceased.value_counts()"
   ]
  },
  {
   "cell_type": "code",
   "execution_count": null,
   "metadata": {},
   "outputs": [],
   "source": [
    "activemanage.gift_officer.value_counts()"
   ]
  },
  {
   "cell_type": "code",
   "execution_count": null,
   "metadata": {},
   "outputs": [],
   "source": [
    "activemanage.last_contact.value_counts()"
   ]
  },
  {
   "cell_type": "code",
   "execution_count": null,
   "metadata": {},
   "outputs": [],
   "source": [
    "activemanage.to_csv('activemanage.csv')"
   ]
  },
  {
   "cell_type": "markdown",
   "metadata": {},
   "source": []
  }
 ],
 "metadata": {
  "kernelspec": {
   "display_name": "Python 3",
   "language": "python",
   "name": "python3"
  },
  "language_info": {
   "codemirror_mode": {
    "name": "ipython",
    "version": 3
   },
   "file_extension": ".py",
   "mimetype": "text/x-python",
   "name": "python",
   "nbconvert_exporter": "python",
   "pygments_lexer": "ipython3",
   "version": "3.7.3"
  }
 },
 "nbformat": 4,
 "nbformat_minor": 4
}
